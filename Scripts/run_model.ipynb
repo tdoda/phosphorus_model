{
 "cells": [
  {
   "cell_type": "code",
   "execution_count": 1,
   "id": "1067244c-28e1-40ff-a895-6d0046638458",
   "metadata": {},
   "outputs": [
    {
     "name": "stderr",
     "output_type": "stream",
     "text": [
      "<frozen importlib._bootstrap>:228: RuntimeWarning:\n",
      "\n",
      "scipy._lib.messagestream.MessageStream size changed, may indicate binary incompatibility. Expected 56 from C header, got 64 from PyObject\n",
      "\n"
     ]
    }
   ],
   "source": [
    "import netCDF4\n",
    "import os\n",
    "import sys\n",
    "import numpy as np\n",
    "import matplotlib.pyplot as plt\n",
    "plt.rcParams.update({'svg.fonttype':'none', 'font.sans-serif':'Arial','font.size': 12}) # \"none\": to export text as text\n",
    "import pandas as pd\n",
    "from datetime import datetime, timezone\n",
    "import math\n",
    "import cmocean\n",
    "import xarray as xr\n",
    "from functions import *"
   ]
  },
  {
   "cell_type": "markdown",
   "id": "f76f510a-df1a-456f-9c66-69a2eff4bb58",
   "metadata": {},
   "source": [
    "### Cases to consider:\n",
    "- Pin:\n",
    "    - direct measurements\n",
    "    - from discharge-TP curve\n",
    "- Pout:\n",
    "    - direct measurements\n",
    "    - from TP_epi and Qout\n",
    "- Premob:\n",
    "    - from avg stratif\n",
    "    - from 1D thermal structure, varying over time (//SIMSTRAT)\n",
    "    - from anoxic period computation (Müller et al., 2012)\n",
    "    - from oxygen model\n",
    "- TPsed: other method than sediment core?"
   ]
  }
 ],
 "metadata": {
  "kernelspec": {
   "display_name": "Python 3 (ipykernel)",
   "language": "python",
   "name": "python3"
  },
  "language_info": {
   "codemirror_mode": {
    "name": "ipython",
    "version": 3
   },
   "file_extension": ".py",
   "mimetype": "text/x-python",
   "name": "python",
   "nbconvert_exporter": "python",
   "pygments_lexer": "ipython3",
   "version": "3.9.15"
  }
 },
 "nbformat": 4,
 "nbformat_minor": 5
}
